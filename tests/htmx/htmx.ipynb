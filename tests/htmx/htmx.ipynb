{
 "cells": [
  {
   "cell_type": "markdown",
   "id": "c10fd4c6-bcb1-41f5-b0da-7e69a3e2443a",
   "metadata": {},
   "source": [
    "# HATEOS experimentation\n",
    "\n",
    "## Outline\n",
    "\n",
    "After reading through [Hypermedia Systems](https://hypermedia.systems/), exploring various frontend Javascript frameworks (Vue, Svelte, Alpine, React, Astro and more) and diving through the current state of the web, I have come to a few personal opinions. First off, I just want to say *to each their own*. My experience lies predominantly within the Javascript circle for full-stack development. Like many out there, I begun my journey into web development through opening a notepad, writing some HTML and opening it in a browser. Then came styling the page, leading to an accompanying CSS stylesheet. It was simple, it was addicting and I was hooked. Next up came the need for a database + linking it to the webpage to display some data. So, like many have done before me, I changed the .html to a .php and dove into the world of PHP as of 2014. Still a simple website, yet I was on the path into web application territory.\n",
    "\n",
    "Then came the need for some interactivity - the world of Javascript. I distinctively remember finding a site I loved the look of - flashy components, animated transitions, *crazy* fast (once loaded). So I did what any other beginner would do and opened up the developer tools to see what was going on. ...*Oh*. Script tags as far as the eye could see, strange ID's and classnames. Diving into the source code a bit more, I found myself walking through multiple minified javascript chunks & jquery files. \n",
    "\n",
    "Now I have even *less* idea about how it worked and the feeling that I really didn't know the first thing about web development. Naive and confused, I opened up a browser tab and typed in `Jquery`. It was a lot, too much for little old me with 0 experience in javascript. So I opened another tab and typed in `Javascript` and tried my hand at scripting my small website. The need for more power, better speed and ease-of-use led me down the path of frameworks. These framework and the front-facing popularity that accompanied them all pushed their own ecosystems of other frameworks to better integrate them. Node.js -> Express.js -> React -> Zeit. It was easy. It was popular & well documented. It was being used by top companies around the world. \n",
    "\n",
    "Watching the ecosystem and tooling develop over the years has been facinating to say the least. Full-blown ecosystems of frameworks and language integrations: each with their own conferences & big named players in the field. Build tools, libraries, stacks with names, anything you could imagine. One thing I loved and still love today about the web, developers are *passionate*. If you need something, chances are it's available if your stack has been around for long enough. \n",
    "\n",
    "One movement that has got me intrigued recently though, is the push for server-side rendering. Render the code on the server, serve it as static HTML and hydrate/link up the interactivity on the frontend. It makes sense though - SEO, load times, the list goes on. But it almost felt nostalgiac to me, this concept of populating a standard HTML tree on the server and having it send to the client. It was just like the early days of my journey. This made me think. The current state of the web is so, *so* vast, yet its core foundation is progressing at an inverse pace. These tools have basically been spawned out of a necessity to advance the space and keep up with modern technology. Yet, the foundations have remained almost stagnant in this exploding ecosystem - HTML, CSS & Javascript. They all attempt to progress these underlying technologies and provide a better developer experience on top of them. \n",
    "\n",
    "It really got me thinking though, where *is* the web sphere really at? The (good?) thing about the information available is that it doesn't change nearly as fast as some of the third-party technologies out there. So reading up and exploring the current standard references for Javascript, HTML & CSS was fairly straightforward - most of it was still things I had learnt back in the day. There is, however, some noteable progress within the CSS and ES15. The advancements of Web API's in particular has been quite facinating. Reading through the [Mozilla Web Docs](https://developer.mozilla.org/en-US/), it seemed to me that a lot of the problems that third-party technologies rose to solve are, theoretically, solveable using the standard web framework. Don't get me wrong, these technologies exist for a reason, and have evolved and grown so much in recent years that they do an astounding job nowadays. Moreover, the snail-paced developments of the standard tech does not address every problem out there, far from it really. Web-Components, for example, have not been adopted by the masses and largely for good reason. They're complicated to develop and integrate properly, restrictive in what they can do and host a range of other issues that I won't dive into. But even so, the thought is still with me that the web development industry is transgressing backwards to move forwards.\n",
    "\n",
    "There has recently been a website making traction around X.com - McMaster Carr. It is being termed as the *fastest* website on the web for what it does. They have a catalogue with over a million different products available, yet the website seems to load everything almost instantly. Moreover? It doesn't use a modern framework. It is not built nor is it compiled. The development that went into it is insane and some of it quite frankly genius, but at the core its using tools available through standard web technologies. \n",
    "\n",
    "It has emphasised a point to me. Usually when building a web application, developers choose a mix of tools that will get the job done the fastest and work the best for the particular project at hand. Experience with a particular technology also helps how fast you can implement it. But, throughout a vast sea of available stacks across languages, how would you know which one will be the best for the job? It could be a library written for a language that you have never touched in your life, so you wouldn't even know if it was the best suited tool. Thats why, like myself, developers usually stick to a particular framework and progress to understand it deeply. Having a deep understanding means that, no matter the project at hand, no matter if it *is* the best tool for the job, it is still achievable. Interesting to me though, is that the frameworks, while making life easier for developers, are all built on top of the same core foundations of the web. When (even slowly) the foundations change, these frameworks and tools must adapt to the changes.\n",
    "\n",
    "Having been diving into the HTMX framework and reading through Carson Gross' book on HyperMedia Systems, it really put something into perspective that I haven't even given the time of day. Progressive Enhancement. React brain has taught me that a web application is built through the terminal: `npx create-next-app`, `npm create vite@latest`, `vue create`. It has led me to the foundational thinking that a web application is separate from a website completely. That you need a node_modules folder with 100+ dependencies, many of which you've never heard of before, before you've even written a single line of code. To be fair, creating a full-blown web application is much more complicated that creating a simple `hello_world.html` page. But surely by now the foundations are at a point where this is doable? Progressive enhancement comes to the forefront of my mind: what if you start basic and add what you need as you go. Almost every framework these days does this to a degree, but initializing a project that has a three separate tsconfig files along with a package.json just to serve a website seems a little overcomplicated. I should reiterate that I am neither for nor against any frameworks. They all serve a purpose to be as big as they are and I recommend that all developers, no matter what skill-level they are (as long as theyre familiar enough with the core technologies), to branch out among languages and stacks and just learn.\n",
    "\n",
    "A key part of the client-side speed delivered by McMaster Carr is done so through asynchronous calls to a server. This javascript feature of non-blocking, non-reloading asynchronous `fetch()` calls allow for a much greater user experience than `submit form -> reload entire page`. As such, it is utilised extensively across almost every framework available. And it solves one of HTML's greatest 'lack of progression' limitations. \n",
    "\n",
    "Having learnt HTMX and all it offers, I feel that it provides a good solution for progressive enhancement. Say are building a website without clear direction. You start out simple, a backend that serves HTML to the frontend. Via simply a CDN link and some attribute tags, the HTML can be enhanced to act in the same fashion as a fully-fledged web application. However, I believe that there are certain features that HTMX is lacking that are provided by default in almost all major frameworks to date.\n",
    "\n",
    "The purpose of this notebook is to explore the potential that HTMX unlocks within a web application, and build upon it using custom and third-party extensions to explore the possibility of enhancing the foundational technologies to the point where it can progressively enhance a website into a web application that rivals modern day Javascript frameworks. as possible to what major frameworks these days offer."
   ]
  },
  {
   "cell_type": "markdown",
   "id": "a9eda61e-3ada-4026-a17a-a10c8678f351",
   "metadata": {},
   "source": [
    "### Initial Ideas:\n",
    "\n",
    "* Preloading html segments, via the preload HTMX extension\n",
    "* Maintaining state directly from the server, but provide a middle-ground (not every request from the client should be send back to the server, even from a cached request)\n",
    "* Configuring hx-select & hx-values to customize server returned HTML based on client state - if information is within the page morph only new data to minimize swapping activity\n",
    "* Routes must still be able to optimally load entire HTML segments to adhere to graceful degradation"
   ]
  },
  {
   "cell_type": "code",
   "execution_count": 1,
   "id": "ee14d63e-b624-42be-905b-3d7f729dba6b",
   "metadata": {},
   "outputs": [],
   "source": [
    "from IPython.display import display, HTML\n",
    "from fasthtml.common import *\n",
    "from fasthtml.jupyter import *\n",
    "\n",
    "def create_server(app,rt):\n",
    "    if IN_NOTEBOOK:\n",
    "        for port in range(8000,8030):   \n",
    "            if 'server' in globals():\n",
    "                print(f\"Server already running on port {globals()['server'].port} - stopping it\")\n",
    "                globals()['server'].stop()\n",
    "            if is_port_free(port):\n",
    "                server = JupyUvi(app, port=port)\n",
    "\n",
    "                def HShow(comp, app):\n",
    "                    @app.get('/')\n",
    "                    def get(): return comp\n",
    "                    display(HTML(f'<a href=\"http://localhost:{port}/\" target=\"_blank\">Open in new tab</a>'))\n",
    "                    return HTMX(\"/\",port=port, iframe_height=\"300px\")\n",
    "                print(f\"Starter server on port {port}\")\n",
    "                Show = partial(HShow, app=app)\n",
    "                return app, rt, server, HShow, Show"
   ]
  },
  {
   "cell_type": "code",
   "execution_count": 2,
   "id": "a754acae-dcc8-4794-8c82-13965b5445f7",
   "metadata": {},
   "outputs": [
    {
     "name": "stdout",
     "output_type": "stream",
     "text": [
      "Starter server on port 8000\n"
     ]
    }
   ],
   "source": [
    "htmx_hdrs = [Script(src=\"https://unpkg.com/htmx.org@2.0.3\", integrity=\"sha384-0895/pl2MU10Hqc6jd4RvrthNlDiE9U1tWmX7WRESftEDRosgxNsQG/Ze9YMRzHq\", crossorigin=\"anonymous\"), Script(src=\"https://unpkg.com/idiomorph@0.3.0/dist/idiomorph-ext.min.js\", _async=True, defer=True), Script(src=\"https://unpkg.com/htmx-ext-preload@2.0.1/preload.js\", _async=True, defer=True)]\n",
    "app, rt = fast_app(pico=False, bodykw={\"class\":\"bg-slate-300\", \"hx-ext\":\"morph preload\"}, default_hdrs=False, hdrs=[*htmx_hdrs, Script(src=\"https://cdn.tailwindcss.com\")])\n",
    "app, rt, server, HShow, Show = create_server(app, rt)"
   ]
  },
  {
   "cell_type": "code",
   "execution_count": 3,
   "id": "c1f95fcc-d80a-4413-ad2e-9b58047e43a5",
   "metadata": {},
   "outputs": [],
   "source": [
    "def OptBtn(*c, **kwargs):\n",
    "    swap = kwargs.pop(\"hx_swap\", None)\n",
    "    return Button(*c, preload=True, hx_swap=f\"morph:{swap}\" if swap else None, cls=f\"{kwargs.pop(\"cls\", '')} h-10, px-4 py-2 bg-slate-500 text-white rounded-md shadow flex-inline hover:bg-slate-500/90\", **kwargs)\n",
    "    \n",
    "\n",
    "@rt\n",
    "def index():\n",
    "    return (Title(\"Testing\"), Main(Div(H1(\"HTMX test\", id=\"heading\"), OptBtn(\"Swap\", hx_get=\"/swap\", target_id=\"heading\", hx_swap=\"morph:outerHTML\"))))\n",
    "\n",
    "@rt\n",
    "def swap():\n",
    "    return (H1(\"Swapped\", id=\"heading\"), P(\"Extra paragraph to swap into body\", hx_target=\"body\", hx_swap_oob=\"true transition:true\", hx_swap=\"beforeend\"))\n",
    "\n",
    "HTMX()"
   ]
  }
 ],
 "metadata": {
  "kernelspec": {
   "display_name": "Python 3 (ipykernel)",
   "language": "python",
   "name": "python3"
  },
  "language_info": {
   "codemirror_mode": {
    "name": "ipython",
    "version": 3
   },
   "file_extension": ".py",
   "mimetype": "text/x-python",
   "name": "python",
   "nbconvert_exporter": "python",
   "pygments_lexer": "ipython3",
   "version": "3.13.0"
  }
 },
 "nbformat": 4,
 "nbformat_minor": 5
}
