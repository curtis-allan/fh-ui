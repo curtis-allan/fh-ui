{
 "cells": [
  {
   "cell_type": "code",
   "execution_count": 1,
   "id": "5eed7a36-f923-4189-b909-3efe854966a4",
   "metadata": {},
   "outputs": [],
   "source": [
    "# Investigating Shoelace (through web components) for UI components"
   ]
  },
  {
   "cell_type": "code",
   "execution_count": 2,
   "id": "96a7ded6-8bd4-454e-b685-7b38c925b751",
   "metadata": {},
   "outputs": [],
   "source": [
    "from fasthtml.common import *\n",
    "from fasthtml.jupyter import *\n",
    "\n",
    "# sl_css = Link(rel=\"stylesheet\", href=\"https://cdn.jsdelivr.net/npm/@shoelace-style/shoelace@2.17.1/cdn/themes/light.css\")\n",
    "tw_cdn = Script(src=\"https://cdn.tailwindcss.com\")\n",
    "sl_js = Script(src=\"https://cdn.jsdelivr.net/npm/@shoelace-style/shoelace@2.17.1/cdn/shoelace-autoloader.js\", type=\"module\")\n",
    "\n",
    "app,rt = fast_app(pico=False, live=True, ws_hdr=True, hdrs=[sl_js, tw_cdn])\n",
    "server = JupyUvi(app)\n"
   ]
  },
  {
   "cell_type": "code",
   "execution_count": 3,
   "id": "2c69b93b-5984-4364-9ed7-93d4a6bedb38",
   "metadata": {},
   "outputs": [],
   "source": [
    "from fasthtml.components import Sl_Button"
   ]
  },
  {
   "cell_type": "code",
   "execution_count": 13,
   "id": "c7ba2254-f1c0-4296-96fe-3d1cec5e4f38",
   "metadata": {},
   "outputs": [
    {
     "data": {
      "text/html": [
       "<iframe src=\"http://localhost:8000\" style=\"width: 100%; height: auto; border: none;\" onload=\"{\n",
       "        let frame = this;\n",
       "        window.addEventListener('message', function(e) {\n",
       "            if (e.data.height) frame.style.height = (e.data.height+1) + 'px';\n",
       "        }, false);\n",
       "    }\" allow=\"accelerometer; autoplay; camera; clipboard-read; clipboard-write; display-capture; encrypted-media; fullscreen; gamepad; geolocation; gyroscope; hid; identity-credentials-get; idle-detection; magnetometer; microphone; midi; payment; picture-in-picture; publickey-credentials-get; screen-wake-lock; serial; usb; web-share; xr-spatial-tracking\"></iframe> "
      ],
      "text/plain": [
       "<IPython.core.display.HTML object>"
      ]
     },
     "execution_count": 13,
     "metadata": {},
     "output_type": "execute_result"
    }
   ],
   "source": [
    "base_cls = \"[&::part(base)]:inline-flex [&::part(base)]:items-center [&::part(base)]:justify-center [&::part(base)]:whitespace-nowrap [&::part(base)]:rounded-md [&::part(base)]:text-sm [&::part(base)]:font-medium [&::part(base)]:ring-offset-background [&::part(base)]:transition-colors [&::part(base)]:focus-visible:outline-none [&::part(base):focus-visible]:ring-2 [&::part(base)]:focus-visible:ring-ring [&::part(base)]:focus-visible:ring-offset-2 [&::part(base)]:disabled:pointer-events-none [&::part(base)]:disabled:opacity-50 [&::part(base)]:h-10 [&::part(base)]:px-4 [&::part(base)]:py-2\"\n",
    "\n",
    "variants = {\n",
    "    \"default\": \"[&::part(label)]:text-primary-foreground [&::part(base)]:hover:bg-primary/90\",\n",
    "    \"outline\": \"border border-input bg-background hover:bg-accent hover:text-accent-foreground\"\n",
    "}\n",
    "\n",
    "def SButton(*c, variant:str=\"default\", **kwargs):\n",
    "    cls_args = (kwargs.pop(\"cls\", \"\"), base_cls, variants[variant])\n",
    "    kwargs[\"cls\"] = \" \".join(cls_args)\n",
    "    return Sl_Button(*c, **kwargs)\n",
    "\n",
    "@rt\n",
    "def index():\n",
    "    return SButton(\"Testing\", disabled=True)\n",
    "\n",
    "HTMX()"
   ]
  },
  {
   "cell_type": "code",
   "execution_count": 5,
   "id": "8535eb47-6bdf-46fc-a680-cfbd864ed0a3",
   "metadata": {},
   "outputs": [
    {
     "data": {
      "text/html": [
       "<iframe src=\"http://localhost:8000/select\" style=\"width: 100%; height: 300px; border: none;\" onload=\"{\n",
       "        let frame = this;\n",
       "        window.addEventListener('message', function(e) {\n",
       "            if (e.data.height) frame.style.height = (e.data.height+1) + 'px';\n",
       "        }, false);\n",
       "    }\" allow=\"accelerometer; autoplay; camera; clipboard-read; clipboard-write; display-capture; encrypted-media; fullscreen; gamepad; geolocation; gyroscope; hid; identity-credentials-get; idle-detection; magnetometer; microphone; midi; payment; picture-in-picture; publickey-credentials-get; screen-wake-lock; serial; usb; web-share; xr-spatial-tracking\"></iframe> "
      ],
      "text/plain": [
       "<IPython.core.display.HTML object>"
      ]
     },
     "execution_count": 5,
     "metadata": {},
     "output_type": "execute_result"
    }
   ],
   "source": [
    "from fasthtml.components import Sl_Select, Sl_Option, Sl_Divider, Small\n",
    "\n",
    "def SlSelect():\n",
    "    return Sl_Select(\n",
    "                Small(\"Entries\"),\n",
    "                Sl_Option(\"First Entry\", value=\"1\"),\n",
    "                Sl_Option(\"Second Entry\", value=\"2\"),\n",
    "                Sl_Divider(),\n",
    "                Small(\"Other Entries\"),\n",
    "                Sl_Option(\"Third Entry\", value=\"3\"),\n",
    "                Sl_Option(\"Fourth Entry\", value=\"4\"),\n",
    "                placeholder=\"Select an entry\",\n",
    "                hx_on_sl_change=\"console.log('changed')\",\n",
    "                hoist=True)\n",
    "\n",
    "@rt\n",
    "def select():\n",
    "    return SlSelect()\n",
    "\n",
    "HTMX(select, iframe_height=\"300px\")"
   ]
  }
 ],
 "metadata": {
  "kernelspec": {
   "display_name": "Python 3 (ipykernel)",
   "language": "python",
   "name": "python3"
  },
  "language_info": {
   "codemirror_mode": {
    "name": "ipython",
    "version": 3
   },
   "file_extension": ".py",
   "mimetype": "text/x-python",
   "name": "python",
   "nbconvert_exporter": "python",
   "pygments_lexer": "ipython3",
   "version": "3.13.0"
  }
 },
 "nbformat": 4,
 "nbformat_minor": 5
}
