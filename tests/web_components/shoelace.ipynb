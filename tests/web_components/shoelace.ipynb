{
 "cells": [
  {
   "cell_type": "code",
   "execution_count": 1,
   "id": "5eed7a36-f923-4189-b909-3efe854966a4",
   "metadata": {},
   "outputs": [],
   "source": [
    "# Investigating Shoelace (through web components) for UI components"
   ]
  },
  {
   "cell_type": "code",
   "execution_count": 2,
   "id": "96a7ded6-8bd4-454e-b685-7b38c925b751",
   "metadata": {},
   "outputs": [],
   "source": [
    "from IPython.display import display, HTML\n",
    "from fasthtml.common import *\n",
    "from fasthtml.jupyter import *\n",
    "\n",
    "def create_server(app,rt):\n",
    "    if IN_NOTEBOOK:\n",
    "        for port in range(8000,8030):   \n",
    "            if 'server' in globals():\n",
    "                print(f\"Server already running on port {globals()['server'].port} - stopping it\")\n",
    "                globals()['server'].stop()\n",
    "            if is_port_free(port):\n",
    "                server = JupyUvi(app, port=port)\n",
    "\n",
    "                def HShow(comp, app):\n",
    "                    @app.get('/')\n",
    "                    def get(): return comp\n",
    "                    display(HTML(f'<a href=\"http://localhost:{port}/\" target=\"_blank\">Open in new tab</a>'))\n",
    "                    return HTMX(\"/\",port=port, iframe_height=\"300px\")\n",
    "                print(f\"Starter server on port {port}\")\n",
    "                Show = partial(HShow, app=app)\n",
    "                return app, rt, server, HShow, Show"
   ]
  },
  {
   "cell_type": "code",
   "execution_count": 3,
   "id": "84dc5441-3e37-44a8-9cb0-b886ed5f99a5",
   "metadata": {},
   "outputs": [],
   "source": [
    "tw_config = Script(\"\"\"\n",
    "tailwind.config = {\n",
    "darkMode: [\"selector\"],\n",
    "  theme: {\n",
    "    container: {\n",
    "      center: true,\n",
    "      padding: \"2rem\",\n",
    "      screens: {\n",
    "        \"2xl\": \"1400px\",\n",
    "      },\n",
    "    },\n",
    "    extend: {\n",
    "      colors: {\n",
    "        border: \"hsl(var(--border))\",\n",
    "        input: \"hsl(var(--input))\",\n",
    "        ring: \"hsl(var(--ring))\",\n",
    "        background: \"hsl(var(--background))\",\n",
    "        foreground: \"hsl(var(--foreground))\",\n",
    "        primary: {\n",
    "          DEFAULT: \"hsl(var(--primary))\",\n",
    "          foreground: \"hsl(var(--primary-foreground))\",\n",
    "        },\n",
    "        secondary: {\n",
    "          DEFAULT: \"hsl(var(--secondary))\",\n",
    "          foreground: \"hsl(var(--secondary-foreground))\",\n",
    "        },\n",
    "        destructive: {\n",
    "          DEFAULT: \"hsl(var(--destructive))\",\n",
    "          foreground: \"hsl(var(--destructive-foreground))\",\n",
    "        },\n",
    "        muted: {\n",
    "          DEFAULT: \"hsl(var(--muted))\",\n",
    "          foreground: \"hsl(var(--muted-foreground))\",\n",
    "        },\n",
    "        accent: {\n",
    "          DEFAULT: \"hsl(var(--accent))\",\n",
    "          foreground: \"hsl(var(--accent-foreground))\",\n",
    "        },\n",
    "        popover: {\n",
    "          DEFAULT: \"hsl(var(--popover))\",\n",
    "          foreground: \"hsl(var(--popover-foreground))\",\n",
    "        },\n",
    "        card: {\n",
    "          DEFAULT: \"hsl(var(--card))\",\n",
    "          foreground: \"hsl(var(--card-foreground))\",\n",
    "        },\n",
    "      borderRadius: {\n",
    "        lg: `var(--radius)`,\n",
    "        md: `calc(var(--radius) - 2px)`,\n",
    "        sm: \"calc(var(--radius) - 4px)\",\n",
    "      },\n",
    "      fontFamily: {\n",
    "        sans: \"var(--font-sans)\",\n",
    "      },\n",
    "      },\n",
    "      }\n",
    "      }\n",
    "      }\n",
    "\"\"\")"
   ]
  },
  {
   "cell_type": "code",
   "execution_count": 4,
   "id": "cb9f2844-cc1c-4cf9-8a7b-f6ff9b40740a",
   "metadata": {},
   "outputs": [],
   "source": [
    "tw_default = \"\"\"\n",
    "@layer base {\n",
    "  :root {\n",
    "    --background: 0 0% 100%;\n",
    "    --foreground: 222.2 47.4% 11.2%;\n",
    "\n",
    "    --muted: 210 40% 96.1%;\n",
    "    --muted-foreground: 215.4 16.3% 46.9%;\n",
    "\n",
    "    --popover: 0 0% 100%;\n",
    "    --popover-foreground: 222.2 47.4% 11.2%;\n",
    "\n",
    "    --border: 214.3 31.8% 91.4%;\n",
    "    --input: 214.3 31.8% 91.4%;\n",
    "\n",
    "    --card: 0 0% 100%;\n",
    "    --card-foreground: 222.2 47.4% 11.2%;\n",
    "\n",
    "    --primary: 222.2 47.4% 11.2%;\n",
    "    --primary-foreground: 210 40% 98%;\n",
    "\n",
    "    --secondary: 210 40% 96.1%;\n",
    "    --secondary-foreground: 222.2 47.4% 11.2%;\n",
    "\n",
    "    --accent: 210 40% 96.1%;\n",
    "    --accent-foreground: 222.2 47.4% 11.2%;\n",
    "\n",
    "    --destructive: 0 100% 50%;\n",
    "    --destructive-foreground: 210 40% 98%;\n",
    "\n",
    "    --ring: 215 20.2% 65.1%;\n",
    "\n",
    "    --radius: 0.5rem;\n",
    "  }\n",
    "\n",
    "  .dark {\n",
    "    --background: 224 71% 4%;\n",
    "    --foreground: 213 31% 91%;\n",
    "\n",
    "    --muted: 223 47% 11%;\n",
    "    --muted-foreground: 215.4 16.3% 56.9%;\n",
    "\n",
    "    --accent: 216 34% 17%;\n",
    "    --accent-foreground: 210 40% 98%;\n",
    "\n",
    "    --popover: 224 71% 4%;\n",
    "    --popover-foreground: 215 20.2% 65.1%;\n",
    "\n",
    "    --border: 216 34% 17%;\n",
    "    --input: 216 34% 17%;\n",
    "\n",
    "    --card: 224 71% 4%;\n",
    "    --card-foreground: 213 31% 91%;\n",
    "\n",
    "    --primary: 210 40% 98%;\n",
    "    --primary-foreground: 222.2 47.4% 1.2%;\n",
    "\n",
    "    --secondary: 222.2 47.4% 11.2%;\n",
    "    --secondary-foreground: 210 40% 98%;\n",
    "\n",
    "    --destructive: 0 63% 31%;\n",
    "    --destructive-foreground: 210 40% 98%;\n",
    "\n",
    "    --ring: 216 34% 17%;\n",
    "\n",
    "    --radius: 0.5rem;\n",
    "  }\n",
    "}\n",
    "\n",
    "@layer base {\n",
    "  * {\n",
    "    @apply border-border;\n",
    "  }\n",
    "  body {\n",
    "    @apply bg-background text-foreground;\n",
    "    font-feature-settings: 'rlig' 1, 'calt' 1;\n",
    "  }\n",
    "  sl-button::part(base) {\n",
    "  @apply inline-flex items-center justify-center gap-2 whitespace-nowrap rounded-md text-sm font-medium ring-offset-background transition-colors focus-visible:outline-none focus-visible:ring-2 focus-visible:ring-ring focus-visible:ring-offset-2 disabled:pointer-events-none disabled:opacity-50 [&_svg]:pointer-events-none [&_svg]:size-4 [&_svg]:shrink-0\n",
    "  }\n",
    "  sl-button[variant=default]::part(base) {\n",
    "    @apply bg-primary text-primary-foreground hover:bg-primary/90\n",
    "  }\n",
    "}\n",
    "\"\"\""
   ]
  },
  {
   "cell_type": "code",
   "execution_count": 5,
   "id": "655946a2-639f-491a-93f7-dcd96a8748eb",
   "metadata": {},
   "outputs": [
    {
     "name": "stdout",
     "output_type": "stream",
     "text": [
      "Starter server on port 8000\n"
     ]
    }
   ],
   "source": [
    "head = [Script(src=\"https://cdn.jsdelivr.net/npm/@shoelace-style/shoelace@2.17.1/cdn/shoelace-autoloader.js\", type=\"module\"), Script(src=\"https://cdn.tailwindcss.com\")]\n",
    "\n",
    "app, rt = fast_app(pico=False, hdrs=[*head, Style(tw_default, type=\"text/tailwindcss\"), tw_config], htmlkw={\"class\":\"dark\"})\n",
    "app, rt, server, HShow, Show = create_server(app, rt)"
   ]
  },
  {
   "cell_type": "code",
   "execution_count": 6,
   "id": "c7ba2254-f1c0-4296-96fe-3d1cec5e4f38",
   "metadata": {},
   "outputs": [
    {
     "data": {
      "text/html": [
       "<a href=\"http://localhost:8000/\" target=\"_blank\">Open in new tab</a>"
      ],
      "text/plain": [
       "<IPython.core.display.HTML object>"
      ]
     },
     "metadata": {},
     "output_type": "display_data"
    },
    {
     "data": {
      "text/html": [
       "<iframe src=\"http://localhost:8000/\" style=\"width: 100%; height: 300px; border: none;\" onload=\"{\n",
       "        let frame = this;\n",
       "        window.addEventListener('message', function(e) {\n",
       "            if (e.data.height) frame.style.height = (e.data.height+1) + 'px';\n",
       "        }, false);\n",
       "    }\" allow=\"accelerometer; autoplay; camera; clipboard-read; clipboard-write; display-capture; encrypted-media; fullscreen; gamepad; geolocation; gyroscope; hid; identity-credentials-get; idle-detection; magnetometer; microphone; midi; payment; picture-in-picture; publickey-credentials-get; screen-wake-lock; serial; usb; web-share; xr-spatial-tracking\"></iframe> "
      ],
      "text/plain": [
       "<IPython.core.display.HTML object>"
      ]
     },
     "execution_count": 6,
     "metadata": {},
     "output_type": "execute_result"
    }
   ],
   "source": [
    "from fasthtml.components import Sl_Button, Sl_Select\n",
    "\n",
    "def SButton(*c, **kwargs):\n",
    "    styles = Style(\"@layer base {sl-button::part(base) { @apply h-10 px-4 py-2} }\", type=\"text/tailwindcss\")\n",
    "    return (Sl_Button(*c, variant=\"default\", **kwargs), styles)\n",
    "\n",
    "Show(SButton(\"Hello\"))"
   ]
  },
  {
   "cell_type": "code",
   "execution_count": null,
   "id": "90a1d6e2-1936-4bfb-9c5e-cb898b5c49f2",
   "metadata": {},
   "outputs": [],
   "source": [
    "def SlSelect(*c, **kwargs):\n",
    "    return Sl_"
   ]
  }
 ],
 "metadata": {
  "kernelspec": {
   "display_name": "Python 3 (ipykernel)",
   "language": "python",
   "name": "python3"
  },
  "language_info": {
   "codemirror_mode": {
    "name": "ipython",
    "version": 3
   },
   "file_extension": ".py",
   "mimetype": "text/x-python",
   "name": "python",
   "nbconvert_exporter": "python",
   "pygments_lexer": "ipython3",
   "version": "3.13.0"
  }
 },
 "nbformat": 4,
 "nbformat_minor": 5
}
