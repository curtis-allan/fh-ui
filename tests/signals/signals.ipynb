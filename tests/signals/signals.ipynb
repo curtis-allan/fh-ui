{
 "cells": [
  {
   "cell_type": "code",
   "execution_count": 1,
   "id": "212206af-f64f-4bef-9852-88abd4731197",
   "metadata": {},
   "outputs": [
    {
     "name": "stdout",
     "output_type": "stream",
     "text": [
      "Starter server on port 8002\n"
     ]
    }
   ],
   "source": [
    "from IPython.display import display, HTML\n",
    "from fasthtml.common import *\n",
    "from fasthtml.jupyter import *\n",
    "\n",
    "def create_server(app,rt):\n",
    "    if IN_NOTEBOOK:\n",
    "        for port in range(8000,8030):   \n",
    "            if 'server' in globals():\n",
    "                print(f\"Server already running on port {globals()['server'].port} - stopping it\")\n",
    "                globals()['server'].stop()\n",
    "            if is_port_free(port):\n",
    "                server = JupyUvi(app, port=port)\n",
    "\n",
    "                def HShow(comp, app):\n",
    "                    @app.get('/')\n",
    "                    def get(): return comp\n",
    "                    display(HTML(f'<a href=\"http://localhost:{port}/\" target=\"_blank\">Open in new tab</a>'))\n",
    "                    return HTMX(\"/\",port=port)\n",
    "                print(f\"Starter server on port {port}\")\n",
    "                Show = partial(HShow, app=app)\n",
    "                return app, rt, server, HShow, Show\n",
    "app, rt = fast_app()\n",
    "app, rt, server, HShow, Show = create_server(app, rt)"
   ]
  },
  {
   "cell_type": "code",
   "execution_count": 2,
   "id": "f8ed8d55-1ee5-41f5-a810-30c540dd56ac",
   "metadata": {},
   "outputs": [],
   "source": [
    "def Reactive(tag: str = \"div\", **kwargs):\n",
    "    id = unqid()\n",
    "\n",
    "    imports = \"\"\"\n",
    "    import { createSignal } from 'https://esm.sh/solid-js@1.8.1';\n",
    "    import { render } from 'https://esm.sh/solid-js@1.8.1/web';\n",
    "    import h from 'https://esm.sh/solid-js@1.8.1/h'\\n\\n\"\"\"\n",
    "\n",
    "    content = \"\"\"const %s = () => {\n",
    "         const [count, setCount] = createSignal(0);\n",
    "         const incr = (e) => setCount(c => c+1);\\n\\n\n",
    "         \"\"\" % tag.title()\n",
    "\n",
    "    element = \"\"\"return h('%s', {onClick: incr}, count);\\n}\\n\"\"\" % tag\n",
    "\n",
    "    target = \"\"\"render(Button, document.querySelector('#%s'));\\n\\n\"\"\" % id\n",
    "\n",
    "    return (\n",
    "        Div(id=id),\n",
    "        Script(\n",
    "            imports + content + element + target,\n",
    "            type=\"module\",\n",
    "        ),\n",
    "    )"
   ]
  },
  {
   "cell_type": "code",
   "execution_count": 3,
   "id": "7148be9e-cfaf-4d91-b8e1-be7c6880c58c",
   "metadata": {},
   "outputs": [
    {
     "data": {
      "text/html": [
       "<iframe src=\"http://localhost:8000\" style=\"width: 100%; height: auto; border: none;\" onload=\"{\n",
       "        let frame = this;\n",
       "        window.addEventListener('message', function(e) {\n",
       "            if (e.data.height) frame.style.height = (e.data.height+1) + 'px';\n",
       "        }, false);\n",
       "    }\" allow=\"accelerometer; autoplay; camera; clipboard-read; clipboard-write; display-capture; encrypted-media; fullscreen; gamepad; geolocation; gyroscope; hid; identity-credentials-get; idle-detection; magnetometer; microphone; midi; payment; picture-in-picture; publickey-credentials-get; screen-wake-lock; serial; usb; web-share; xr-spatial-tracking\"></iframe> "
      ],
      "text/plain": [
       "<IPython.core.display.HTML object>"
      ]
     },
     "execution_count": 3,
     "metadata": {},
     "output_type": "execute_result"
    }
   ],
   "source": [
    "@rt('/')\n",
    "def get():\n",
    "    return Button('Swap me', hx_get=\"/swap\", hx_swap=\"outerHTML\")\n",
    "\n",
    "@rt('/swap')\n",
    "def get():\n",
    "    return Reactive('button')\n",
    "\n",
    "HTMX()"
   ]
  }
 ],
 "metadata": {
  "kernelspec": {
   "display_name": "Python 3 (ipykernel)",
   "language": "python",
   "name": "python3"
  },
  "language_info": {
   "codemirror_mode": {
    "name": "ipython",
    "version": 3
   },
   "file_extension": ".py",
   "mimetype": "text/x-python",
   "name": "python",
   "nbconvert_exporter": "python",
   "pygments_lexer": "ipython3",
   "version": "3.13.0"
  }
 },
 "nbformat": 4,
 "nbformat_minor": 5
}
