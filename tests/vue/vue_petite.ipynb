{
 "cells": [
  {
   "cell_type": "markdown",
   "id": "a1a980fa-af1e-4a9c-be98-286d12fc2407",
   "metadata": {
    "editable": true,
    "slideshow": {
     "slide_type": ""
    },
    "tags": []
   },
   "source": [
    "# Example of using Vue-Petite with FastHTML"
   ]
  },
  {
   "cell_type": "markdown",
   "id": "34f28438-f45d-4bba-8987-4c04c76902b9",
   "metadata": {},
   "source": [
    "Boilerplate FastHTML app (thanks Isaac for the code!)"
   ]
  },
  {
   "cell_type": "code",
   "execution_count": 1,
   "id": "b89bc490-220e-4431-82d3-6f5ebb7c2aeb",
   "metadata": {
    "editable": true,
    "slideshow": {
     "slide_type": ""
    },
    "tags": []
   },
   "outputs": [],
   "source": [
    "from fasthtml.common import *\n",
    "from fasthtml.jupyter import *\n",
    "from IPython.display import display, HTML\n",
    "from fasthtml.common import *\n",
    "from fasthtml.jupyter import *\n",
    "\n",
    "def create_server(app,rt):\n",
    "    if IN_NOTEBOOK:\n",
    "        for port in range(8000,8030):   \n",
    "            if 'server' in globals():\n",
    "                print(f\"Server already running on port {globals()['server'].port} - stopping it\")\n",
    "                globals()['server'].stop()\n",
    "            if is_port_free(port):\n",
    "                server = JupyUvi(app, port=port)\n",
    "\n",
    "                def HShow(comp, app):\n",
    "                    @app.get('/')\n",
    "                    def get(): return comp\n",
    "                    display(HTML(f'<a href=\"http://localhost:{port}/\" target=\"_blank\">Open in new tab</a>'))\n",
    "                    return HTMX(\"/\",port=port)\n",
    "                print(f\"Starter server on port {port}\")\n",
    "                Show = partial(HShow, app=app)\n",
    "                return app, rt, server, HShow, Show"
   ]
  },
  {
   "cell_type": "markdown",
   "id": "e97d8883-33a5-4cba-8696-284777c9aa86",
   "metadata": {},
   "source": [
    "Preload Vue-Petite module instance via link tag, and run fasthtml app in jupyter instance"
   ]
  },
  {
   "cell_type": "code",
   "execution_count": 2,
   "id": "75c7e33f-da8b-4c5e-aef2-817133472620",
   "metadata": {
    "editable": true,
    "slideshow": {
     "slide_type": ""
    },
    "tags": []
   },
   "outputs": [
    {
     "name": "stdout",
     "output_type": "stream",
     "text": [
      "Starter server on port 8000\n"
     ]
    }
   ],
   "source": [
    "vue_src = Link(href=\"https://unpkg.com/petite-vue?module\", rel=\"modulepreload\")\n",
    "\n",
    "app, rt = fast_app(hdrs=[vue_src])\n",
    "app, rt, server, HShow, Show = create_server(app, rt)"
   ]
  },
  {
   "cell_type": "markdown",
   "id": "766ddf34-11a8-41d9-9b09-a86a8143bd91",
   "metadata": {},
   "source": [
    "Define VueButton method, utilises dynamic module import & mounts to itself upon rendering into the DOM. \n",
    "\n",
    "> Fully containerising an *island* component means it keeps all state & functionality within itself. Seems to work well with HTMX swapping events in initial tests"
   ]
  },
  {
   "cell_type": "code",
   "execution_count": 3,
   "id": "2676f14a-c3ec-42f0-b419-c1a0d52db0b6",
   "metadata": {},
   "outputs": [
    {
     "data": {
      "text/html": [
       "<a href=\"http://localhost:8000/\" target=\"_blank\">Open in new tab</a>"
      ],
      "text/plain": [
       "<IPython.core.display.HTML object>"
      ]
     },
     "metadata": {},
     "output_type": "display_data"
    },
    {
     "data": {
      "text/html": [
       "<iframe src=\"http://localhost:8000/\" style=\"width: 100%; height: auto; border: none;\" onload=\"{\n",
       "        let frame = this;\n",
       "        window.addEventListener('message', function(e) {\n",
       "            if (e.data.height) frame.style.height = (e.data.height+1) + 'px';\n",
       "        }, false);\n",
       "    }\" allow=\"accelerometer; autoplay; camera; clipboard-read; clipboard-write; display-capture; encrypted-media; fullscreen; gamepad; geolocation; gyroscope; hid; identity-credentials-get; idle-detection; magnetometer; microphone; midi; payment; picture-in-picture; publickey-credentials-get; screen-wake-lock; serial; usb; web-share; xr-spatial-tracking\"></iframe> "
      ],
      "text/plain": [
       "<IPython.core.display.HTML object>"
      ]
     },
     "execution_count": 3,
     "metadata": {},
     "output_type": "execute_result"
    }
   ],
   "source": [
    "def VueButton():\n",
    "    id = unqid()\n",
    "    script=Script(\"\"\"\n",
    "    import('https://unpkg.com/petite-vue?module').then(m => {\n",
    "    m.createApp().mount('#%s');\n",
    "    });\n",
    "    \"\"\" % id)\n",
    "    return Div(Button(\"Count: {{ count }}\", **{\":class\": \"{outline: count > 1}\"}, **{\"@vue:mounted\": \"$el.style.visibility = 'visible'; console.timeEnd('mount')\"}, style=\"visibility:hidden\", _at_click=\"count++\", v_scope=\"{count: 0}\", id=id), script)\n",
    "\n",
    "@rt\n",
    "def swap():\n",
    "    return VueButton()\n",
    "\n",
    "Show(Button(\"Swap me\", hx_get=\"/swap\", hx_swap=\"outerHTML\", hx_target=\"this\", onclick=\"console.time('mount')\"))"
   ]
  },
  {
   "cell_type": "markdown",
   "id": "490e624f-0c25-4d64-a469-e0dea7270ada",
   "metadata": {
    "editable": true,
    "slideshow": {
     "slide_type": ""
    },
    "tags": []
   },
   "source": [
    "Time taken, between pressing the swap button and the Vue component being mounted varies between the range:\n",
    "\n",
    "> 7.3 - 23 ms\n",
    "\n"
   ]
  }
 ],
 "metadata": {
  "kernelspec": {
   "display_name": "Python 3 (ipykernel)",
   "language": "python",
   "name": "python3"
  },
  "language_info": {
   "codemirror_mode": {
    "name": "ipython",
    "version": 3
   },
   "file_extension": ".py",
   "mimetype": "text/x-python",
   "name": "python",
   "nbconvert_exporter": "python",
   "pygments_lexer": "ipython3",
   "version": "3.13.0"
  }
 },
 "nbformat": 4,
 "nbformat_minor": 5
}
