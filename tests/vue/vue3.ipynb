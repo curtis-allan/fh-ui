{
 "cells": [
  {
   "cell_type": "code",
   "execution_count": 1,
   "id": "de99ae40-6820-41a2-98d5-16346d046204",
   "metadata": {
    "editable": true,
    "slideshow": {
     "slide_type": ""
    },
    "tags": []
   },
   "outputs": [
    {
     "name": "stdout",
     "output_type": "stream",
     "text": [
      "Starter server on port 8000\n"
     ]
    }
   ],
   "source": [
    "from fasthtml.common import *\n",
    "from fasthtml.jupyter import *\n",
    "from IPython.display import display, HTML\n",
    "from fasthtml.common import *\n",
    "from fasthtml.jupyter import *\n",
    "\n",
    "def create_server(app,rt):\n",
    "    if IN_NOTEBOOK:\n",
    "        for port in range(8000,8030):   \n",
    "            if 'server' in globals():\n",
    "                print(f\"Server already running on port {globals()['server'].port} - stopping it\")\n",
    "                globals()['server'].stop()\n",
    "            if is_port_free(port):\n",
    "                server = JupyUvi(app, port=port)\n",
    "\n",
    "                def HShow(comp, app):\n",
    "                    @app.get('/')\n",
    "                    def get(): return comp\n",
    "                    display(HTML(f'<a href=\"http://localhost:{port}/\" target=\"_blank\">Open in new tab</a>'))\n",
    "                    return HTMX(\"/\",port=port)\n",
    "                print(f\"Starter server on port {port}\")\n",
    "                Show = partial(HShow, app=app)\n",
    "                return app, rt, server, HShow, Show\n",
    "\n",
    "# vue_src = Link(href='https://unpkg.com/vue@3/dist/vue.esm-browser.js', rel=\"modulepreload\")\n",
    "\n",
    "# mod_map = Script(\"\"\"{\n",
    "#     \"imports\": {\n",
    "#       \"vue\": \"https://unpkg.com/vue@3/dist/vue.esm-browser.js\"\n",
    "#     }\n",
    "#   }\"\"\", type=\"importmap\")\n",
    "\n",
    "vue_global = Script(src=\"https://unpkg.com/vue@3/dist/vue.global.js\")\n",
    "\n",
    "app, rt = fast_app(hdrs=[vue_global])\n",
    "app, rt, server, HShow, Show = create_server(app, rt)"
   ]
  },
  {
   "cell_type": "code",
   "execution_count": 2,
   "id": "0d20bf96-e057-4dc7-8dba-15805f5bb50b",
   "metadata": {},
   "outputs": [],
   "source": [
    "def VueButton1():\n",
    "    id = unqid()\n",
    "    script=Script(\"\"\"\n",
    "    const { createApp } = Vue;\n",
    "    \n",
    "    createApp({data() { return{ count: 0 } }}).mount('#%s');\n",
    "    \"\"\" % id, type=\"module\")\n",
    "    return (Div(Button(\"Count: {{ count }}\", **{\"@vue:mounted\": \"console.timeEnd('mount1')\"}, _at_click=\"count++\", v_bind=\"count\"), id=id), script)\n",
    "\n",
    "def VueButton2():\n",
    "    id = unqid()\n",
    "    script=Script(\"\"\"\n",
    "    Vue.createApp({data() { return{ count: 0 } }}).mount('#%s');\n",
    "    \"\"\" % id)\n",
    "    return (Div(Button(\"Count: {{ count }}\", **{\"@vue:mounted\": \"console.timeEnd('mount2')\"}, _at_click=\"count++\", v_bind=\"count\"), id=id), script)\n",
    "\n",
    "@rt\n",
    "def swap1():\n",
    "    return VueButton1()\n",
    "\n",
    "@rt\n",
    "def swap2():\n",
    "    return VueButton2()"
   ]
  },
  {
   "cell_type": "code",
   "execution_count": 7,
   "id": "27f43552-4664-4f48-bcfd-c8050aac8864",
   "metadata": {},
   "outputs": [
    {
     "data": {
      "text/html": [
       "<a href=\"http://localhost:8000/\" target=\"_blank\">Open in new tab</a>"
      ],
      "text/plain": [
       "<IPython.core.display.HTML object>"
      ]
     },
     "metadata": {},
     "output_type": "display_data"
    },
    {
     "data": {
      "text/html": [
       "<iframe src=\"http://localhost:8000/\" style=\"width: 100%; height: auto; border: none;\" onload=\"{\n",
       "        let frame = this;\n",
       "        window.addEventListener('message', function(e) {\n",
       "            if (e.data.height) frame.style.height = (e.data.height+1) + 'px';\n",
       "        }, false);\n",
       "    }\" allow=\"accelerometer; autoplay; camera; clipboard-read; clipboard-write; display-capture; encrypted-media; fullscreen; gamepad; geolocation; gyroscope; hid; identity-credentials-get; idle-detection; magnetometer; microphone; midi; payment; picture-in-picture; publickey-credentials-get; screen-wake-lock; serial; usb; web-share; xr-spatial-tracking\"></iframe> "
      ],
      "text/plain": [
       "<IPython.core.display.HTML object>"
      ]
     },
     "execution_count": 7,
     "metadata": {},
     "output_type": "execute_result"
    }
   ],
   "source": [
    "Show(\n",
    "    Container(VueButton1(), Button(\"Test VBtn1\", hx_get=\"/swap1\", hx_swap=\"outerHTML\", hx_target=\"this\", onclick=\"console.time('mount1')\"),\n",
    "              Hr(style=\"margin: 0.5rem auto;\"),\n",
    "    Button(\"Test VBtn2\", hx_get=\"/swap2\", hx_swap=\"outerHTML\", hx_target=\"this\", onclick=\"console.time('mount2')\"))\n",
    ")"
   ]
  },
  {
   "cell_type": "markdown",
   "id": "b3664fce-d302-4341-aa3b-833ded8764c5",
   "metadata": {
    "editable": true,
    "slideshow": {
     "slide_type": ""
    },
    "tags": []
   },
   "source": [
    "## Timing\n",
    "\n",
    "Testing the time it takes to mount the Vue component using different import strategies. For each iteration, the notebook is fully reloaded so all cache & variables are reset upon timing.\n",
    "\n",
    "---\n",
    "\n",
    "Will begin testing the ES6 version of the CDN:\n",
    "\n",
    "### No module preload/ header import/ importmap\n",
    "\n",
    "#### Dynamic Import\n",
    "\n",
    "Time to mount after HTMX swap: \n",
    "\n",
    "1. 51.24ms\n",
    "2. 73.83ms\n",
    "3. 57.74ms\n",
    "\n",
    "#### ES6 Module Import\n",
    "\n",
    "Time to mount after HTMX swap:\n",
    "\n",
    "1. 15.29ms\n",
    "2. 16.96ms\n",
    "3. 15.74ms\n",
    "\n",
    "### No module preload, using importmap in head\n",
    "\n",
    "#### Dynamic Import\n",
    "\n",
    "Time to mount after HTMX swap:\n",
    "\n",
    "1. 58.21ms\n",
    "2. 50.32ms\n",
    "3. 60.62ms\n",
    "\n",
    "#### ES6 Module Import\n",
    "\n",
    "1. 16.07ms\n",
    "2. 15.89ms\n",
    "3. 10.84ms\n",
    "\n",
    "### With module preload, No importmap\n",
    "\n",
    "#### Dynamic Import\n",
    "\n",
    "Time to mount after HTMX swap:\n",
    "\n",
    "1. 26.12ms\n",
    "2. 29.62ms\n",
    "3. 20.88ms\n",
    "\n",
    "#### ES6 Module Import\n",
    "\n",
    "1. 15.81ms\n",
    "2. 7.01ms\n",
    "3. 9.86ms\n",
    "\n",
    "### With module preload & importmap\n",
    "\n",
    "#### Dynamic Import\n",
    "\n",
    "Time to mount after HTMX swap:\n",
    "\n",
    "1. 17.95ms\n",
    "2. 23.69ms\n",
    "3. 25.20ms\n",
    "\n",
    "#### ES6 Module Import\n",
    "\n",
    "1. 15.59ms\n",
    "2. 6.77ms\n",
    "3. 15.78ms\n",
    "\n",
    "---\n",
    "\n",
    "Testing the Global version of the CDN:\n",
    "\n",
    "It is worth noting, subsequent mounts seem to become faster after the initial mounting of a vue component.\n",
    "\n",
    "> Importmap and module preloading is not necessary, as the 'Vue' module is loaded into the globals object in the head during initial render\n",
    "\n",
    "1. 15.16ms\n",
    "2. 13.33ms\n",
    "3. 13.21ms\n",
    "\n",
    "## Findings\n",
    "\n",
    "It seems not to matter which method you use, the standard Global CDN works perfectly without any apparent flickering, though this might change for larger scale applications.\n",
    "\n",
    "If you prefer to keep javascript locality, opt for the module approach. A simple importmap option in the head is perfect without a module preload link, otherwise the globals options is perfectly fine."
   ]
  }
 ],
 "metadata": {
  "kernelspec": {
   "display_name": "Python 3 (ipykernel)",
   "language": "python",
   "name": "python3"
  },
  "language_info": {
   "codemirror_mode": {
    "name": "ipython",
    "version": 3
   },
   "file_extension": ".py",
   "mimetype": "text/x-python",
   "name": "python",
   "nbconvert_exporter": "python",
   "pygments_lexer": "ipython3",
   "version": "3.13.0"
  }
 },
 "nbformat": 4,
 "nbformat_minor": 5
}
