{
 "cells": [
  {
   "cell_type": "code",
   "execution_count": 1,
   "id": "a51c1f56-6268-4cbe-a257-0a93f6e5af55",
   "metadata": {},
   "outputs": [],
   "source": [
    "from IPython.display import display, HTML\n",
    "from fasthtml.common import *\n",
    "from fasthtml.jupyter import *\n",
    "\n",
    "def create_server(app,rt):\n",
    "    if IN_NOTEBOOK:\n",
    "        for port in range(8000,8030):   \n",
    "            if 'server' in globals():\n",
    "                print(f\"Server already running on port {globals()['server'].port} - stopping it\")\n",
    "                globals()['server'].stop()\n",
    "            if is_port_free(port):\n",
    "                server = JupyUvi(app, port=port)\n",
    "\n",
    "                def HShow(comp, app):\n",
    "                    @app.get('/')\n",
    "                    def get(): return comp\n",
    "                    display(HTML(f'<a href=\"http://localhost:{port}/\" target=\"_blank\">Open in new tab</a>'))\n",
    "                    return HTMX(\"/\",port=port, iframe_height=\"300px\")\n",
    "                print(f\"Starter server on port {port}\")\n",
    "                Show = partial(HShow, app=app)\n",
    "                return app, rt, server, HShow, Show"
   ]
  },
  {
   "cell_type": "code",
   "execution_count": 2,
   "id": "877f856f-07bd-4558-9ff4-3ab99280cabf",
   "metadata": {},
   "outputs": [
    {
     "name": "stdout",
     "output_type": "stream",
     "text": [
      "Starter server on port 8000\n"
     ]
    }
   ],
   "source": [
    "app, rt = fast_app(pico=False, hdrs=[Script(src=\"https://cdn.tailwindcss.com\")])\n",
    "app, rt, server, HShow, Show = create_server(app, rt)"
   ]
  },
  {
   "cell_type": "code",
   "execution_count": 3,
   "id": "bfa4d934-3345-4c28-98eb-b560357fe2e6",
   "metadata": {},
   "outputs": [],
   "source": [
    "def ft_react_raw(code:str='', jsx:bool=False, comp_name:str='default', id:str=None):\n",
    "\n",
    "    if not id: id = unqid()\n",
    "    \n",
    "    babel_cdn = Script(src=\"https://unpkg.com/@babel/standalone/babel.min.js\")\n",
    "\n",
    "    render_scr = \"\"\"const root = ReactDOM.createRoot(document.getElementById('%s'));\"\"\" % id\n",
    "\n",
    "    if jsx:\n",
    "        render_scr += \"root.render(<%s />);\" % comp_name.title()\n",
    "    else:\n",
    "        render_scr += \"root.render(React.createElement(%s, null, null));\" % comp_name.title()\n",
    "    \n",
    "    main_scr = Script(code + render_scr, type=\"text/babel\" if jsx else 'module', data_type=\"module\" if jsx else '')\n",
    "\n",
    "    if jsx: \n",
    "        return (babel_cdn, Div(main_scr, id=id)) \n",
    "    else:\n",
    "        return Div(main_scr, id=id)"
   ]
  },
  {
   "cell_type": "code",
   "execution_count": 4,
   "id": "4803c26b-0c44-4123-aac7-5e674f84a56c",
   "metadata": {},
   "outputs": [],
   "source": [
    "def test():\n",
    "    babel_scr = Script(src=\"https://unpkg.com/@babel/standalone/babel.min.js\")\n",
    "\n",
    "    id = unqid()\n",
    "\n",
    "    test_scr = \"\"\"\n",
    "    import React from 'https://esm.sh/react';\n",
    "    import ReactDOM from 'https://esm.sh/react-dom/client';\n",
    "    import { PieChart, Pie, Sector, Cell, ResponsiveContainer } from 'https://esm.sh/recharts';\n",
    "\n",
    "    const data = [\n",
    "      { name: 'Group A', value: 400 },\n",
    "      { name: 'Group B', value: 300 },\n",
    "      { name: 'Group C', value: 300 },\n",
    "      { name: 'Group D', value: 200 },\n",
    "      { name: 'Group E', value: 278 },\n",
    "      { name: 'Group F', value: 189 },\n",
    "    ];\n",
    "\n",
    "const Chart = () => {\n",
    "    return (\n",
    "        <PieChart width={400} height={400}>\n",
    "          <Pie\n",
    "            dataKey=\"value\"\n",
    "            startAngle={180}\n",
    "            endAngle={0}\n",
    "            data={data}\n",
    "            cx=\"50%\"\n",
    "            cy=\"50%\"\n",
    "            outerRadius={80}\n",
    "            fill=\"#8884d8\"\n",
    "            label\n",
    "          />\n",
    "        </PieChart>\n",
    "      )\n",
    "    }\n",
    "\"\"\"\n",
    "\n",
    "    render_str = \"\"\"const root = ReactDOM.createRoot(document.getElementById('%s'));\n",
    "    root.render(<Chart />);\"\"\" % id\n",
    "\n",
    "    return (babel_scr, Div(Script(test_scr+render_str, type=\"text/babel\", data_type=\"module\"), id=id))"
   ]
  },
  {
   "cell_type": "code",
   "execution_count": 5,
   "id": "f2c1baaa-082e-4630-b6c6-793fc006e35f",
   "metadata": {},
   "outputs": [
    {
     "data": {
      "text/html": [
       "<a href=\"http://localhost:8000/\" target=\"_blank\">Open in new tab</a>"
      ],
      "text/plain": [
       "<IPython.core.display.HTML object>"
      ]
     },
     "metadata": {},
     "output_type": "display_data"
    },
    {
     "data": {
      "text/html": [
       "<iframe src=\"http://localhost:8000/\" style=\"width: 100%; height: 300px; border: none;\" onload=\"{\n",
       "        let frame = this;\n",
       "        window.addEventListener('message', function(e) {\n",
       "            if (e.data.height) frame.style.height = (e.data.height+1) + 'px';\n",
       "        }, false);\n",
       "    }\" allow=\"accelerometer; autoplay; camera; clipboard-read; clipboard-write; display-capture; encrypted-media; fullscreen; gamepad; geolocation; gyroscope; hid; identity-credentials-get; idle-detection; magnetometer; microphone; midi; payment; picture-in-picture; publickey-credentials-get; screen-wake-lock; serial; usb; web-share; xr-spatial-tracking\"></iframe> "
      ],
      "text/plain": [
       "<IPython.core.display.HTML object>"
      ]
     },
     "execution_count": 5,
     "metadata": {},
     "output_type": "execute_result"
    }
   ],
   "source": [
    "Show(Main(test(),Hr(), test()))"
   ]
  },
  {
   "cell_type": "code",
   "execution_count": 32,
   "id": "853d4964-a3e3-46cf-8347-27a2293ba543",
   "metadata": {},
   "outputs": [],
   "source": [
    "def SButton(*c, **kwargs):\n",
    "    id = kwargs.pop(\"id\", unqid())\n",
    "    \n",
    "    babel_scr = Script(src=\"https://unpkg.com/@babel/standalone/babel.min.js\")\n",
    "    \n",
    "    imports = \"\"\"\n",
    "    import {createRoot} from 'https://esm.sh/react-dom/client';\n",
    "    import {Button} from 'https://esm.sh/shadcn/es2022';\n",
    "    \n",
    "    console.log(shad);\n",
    "    \"\"\"\n",
    "    \n",
    "    render_scr = \"\"\"const root = createRoot(document.getElementById('%s'));\n",
    "    root.render(<Button />);\"\"\" % id\n",
    "    \n",
    "    return (Div(Script(imports+render_scr, type=\"text/babel\", data_type=\"module\"), babel_scr))"
   ]
  },
  {
   "cell_type": "code",
   "execution_count": 33,
   "id": "63d677ed-6090-4017-9b8d-49297517b1e4",
   "metadata": {},
   "outputs": [
    {
     "data": {
      "text/html": [
       "<a href=\"http://localhost:8000/\" target=\"_blank\">Open in new tab</a>"
      ],
      "text/plain": [
       "<IPython.core.display.HTML object>"
      ]
     },
     "metadata": {},
     "output_type": "display_data"
    },
    {
     "data": {
      "text/html": [
       "<iframe src=\"http://localhost:8000/\" style=\"width: 100%; height: 300px; border: none;\" onload=\"{\n",
       "        let frame = this;\n",
       "        window.addEventListener('message', function(e) {\n",
       "            if (e.data.height) frame.style.height = (e.data.height+1) + 'px';\n",
       "        }, false);\n",
       "    }\" allow=\"accelerometer; autoplay; camera; clipboard-read; clipboard-write; display-capture; encrypted-media; fullscreen; gamepad; geolocation; gyroscope; hid; identity-credentials-get; idle-detection; magnetometer; microphone; midi; payment; picture-in-picture; publickey-credentials-get; screen-wake-lock; serial; usb; web-share; xr-spatial-tracking\"></iframe> "
      ],
      "text/plain": [
       "<IPython.core.display.HTML object>"
      ]
     },
     "execution_count": 33,
     "metadata": {},
     "output_type": "execute_result"
    }
   ],
   "source": [
    "Show(SButton())"
   ]
  }
 ],
 "metadata": {
  "kernelspec": {
   "display_name": "Python 3 (ipykernel)",
   "language": "python",
   "name": "python3"
  },
  "language_info": {
   "codemirror_mode": {
    "name": "ipython",
    "version": 3
   },
   "file_extension": ".py",
   "mimetype": "text/x-python",
   "name": "python",
   "nbconvert_exporter": "python",
   "pygments_lexer": "ipython3",
   "version": "3.13.0"
  }
 },
 "nbformat": 4,
 "nbformat_minor": 5
}
