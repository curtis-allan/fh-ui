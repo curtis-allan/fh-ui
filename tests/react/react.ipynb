{
 "cells": [
  {
   "cell_type": "markdown",
   "metadata": {
    "editable": true,
    "slideshow": {
     "slide_type": ""
    },
    "tags": []
   },
   "source": [
    "# Demonstration of using React within FastHTML\n",
    "\n",
    ">This example does *not* require a build step, as we are not using JSX for the templating."
   ]
  },
  {
   "cell_type": "markdown",
   "metadata": {},
   "source": [
    "Jupyter instantiation code borrowed from Isaac (thanks!)"
   ]
  },
  {
   "cell_type": "code",
   "execution_count": 1,
   "metadata": {
    "editable": true,
    "slideshow": {
     "slide_type": ""
    },
    "tags": []
   },
   "outputs": [],
   "source": [
    "from IPython.display import display, HTML\n",
    "from fasthtml.common import *\n",
    "from fasthtml.jupyter import *\n",
    "\n",
    "def create_server(app,rt):\n",
    "    if IN_NOTEBOOK:\n",
    "        for port in range(8000,8030):   \n",
    "            if 'server' in globals():\n",
    "                print(f\"Server already running on port {globals()['server'].port} - stopping it\")\n",
    "                globals()['server'].stop()\n",
    "            if is_port_free(port):\n",
    "                server = JupyUvi(app, port=port)\n",
    "\n",
    "                def HShow(comp, app):\n",
    "                    @app.get('/')\n",
    "                    def get(): return comp\n",
    "                    display(HTML(f'<a href=\"http://localhost:{port}/\" target=\"_blank\">Open in new tab</a>'))\n",
    "                    return HTMX(\"/\",port=port)\n",
    "                print(f\"Starter server on port {port}\")\n",
    "                Show = partial(HShow, app=app)\n",
    "                return app, rt, server, HShow, Show"
   ]
  },
  {
   "cell_type": "code",
   "execution_count": 2,
   "metadata": {},
   "outputs": [
    {
     "name": "stdout",
     "output_type": "stream",
     "text": [
      "Starter server on port 8001\n"
     ]
    }
   ],
   "source": [
    "react_cdn = Script(src=\"https://unpkg.com/react@18/umd/react.development.js\", crossorigin=True, type=\"text/javascript\")\n",
    "react_dom_cdn = Script(src=\"https://unpkg.com/react-dom@18/umd/react-dom.development.js\", crossorigin=True, type=\"text/javascript\")\n",
    "\n",
    "app, rt = fast_app(hdrs=[react_cdn, react_dom_cdn])\n",
    "app, rt, server, HShow, Show = create_server(app, rt)"
   ]
  },
  {
   "cell_type": "markdown",
   "metadata": {},
   "source": [
    "Define a React method, creates a standard button component that increments on click. Returns a wrapper Div with a unique ID that will act as the root node for this react island instance.\n",
    "\n",
    "Using the useEffect() hook to get the approximate time taken to mount & hydrate the component from clicking the swap button."
   ]
  },
  {
   "cell_type": "code",
   "execution_count": 3,
   "metadata": {},
   "outputs": [
    {
     "data": {
      "text/html": [
       "<a href=\"http://localhost:8001/\" target=\"_blank\">Open in new tab</a>"
      ],
      "text/plain": [
       "<IPython.core.display.HTML object>"
      ]
     },
     "metadata": {},
     "output_type": "display_data"
    },
    {
     "data": {
      "text/html": [
       "<iframe src=\"http://localhost:8001/\" style=\"width: 100%; height: auto; border: none;\" onload=\"{\n",
       "        let frame = this;\n",
       "        window.addEventListener('message', function(e) {\n",
       "            if (e.data.height) frame.style.height = (e.data.height+1) + 'px';\n",
       "        }, false);\n",
       "    }\" allow=\"accelerometer; autoplay; camera; clipboard-read; clipboard-write; display-capture; encrypted-media; fullscreen; gamepad; geolocation; gyroscope; hid; identity-credentials-get; idle-detection; magnetometer; microphone; midi; payment; picture-in-picture; publickey-credentials-get; screen-wake-lock; serial; usb; web-share; xr-spatial-tracking\"></iframe> "
      ],
      "text/plain": [
       "<IPython.core.display.HTML object>"
      ]
     },
     "execution_count": 3,
     "metadata": {},
     "output_type": "execute_result"
    }
   ],
   "source": [
    "def React():\n",
    "    id=unqid()\n",
    "    script = Script(\"\"\"\n",
    "const Count = () => {\n",
    "    const [count, setCount] = React.useState(0);\n",
    "\n",
    "    React.useEffect(() => {\n",
    "        console.timeEnd('mount')\n",
    "    }, []);\n",
    "\n",
    "    return (\n",
    "        React.createElement('button', {onClick: () => setCount(count+1), 'hx-get': '/test', 'hx-trigger': 'load', 'hx-target': 'main', 'hx-swap': 'beforeend'}, `Count: ${count}`)\n",
    "    )\n",
    "}\n",
    "\n",
    "const root = ReactDOM.createRoot(document.getElementById('%s'));\n",
    "root.render(React.createElement(Count, null, null));                   \n",
    "\"\"\" % id)\n",
    "    return Div(script, id=id)\n",
    "\n",
    "@rt\n",
    "def swap():\n",
    "    return React()\n",
    "\n",
    "@rt\n",
    "def test():\n",
    "    return Blockquote(\"This is rendered via a swapped-in react component!\")\n",
    "\n",
    "Show(Container(Button(\"Swap Me\", hx_get=\"/swap\", hx_swap=\"outerHTML\", onclick=\"console.time('mount')\")))"
   ]
  },
  {
   "cell_type": "markdown",
   "metadata": {},
   "source": [
    "Time to mount from HTMX swap averaging between 10-18ms, with no flickering as the initial render is handled through javascript.\n",
    "\n",
    "By putting the initial rendering script inside the div acting as the root node for React, the script itself is replaced by the component code upon mounting.\n",
    "\n",
    "I like this as it acts as a clean approach, reducing the amount of redundant scripts in the tree if they only need to be called once. Might be a downside to this though, so will investigate further."
   ]
  },
  {
   "cell_type": "markdown",
   "metadata": {
    "editable": true,
    "slideshow": {
     "slide_type": ""
    },
    "tags": []
   },
   "source": [
    "# Custom component for rendering React components in FastHTML\n",
    "\n",
    "*WIP*\n",
    "\n",
    "## Steps\n",
    "\n",
    "Define the input -> output structure for the method\n",
    "\n",
    "Takes an FT component:\n",
    "\n",
    "```python\n",
    "Function(*c, **kwargs)\n",
    "```\n",
    "\n",
    "And returns a structured string to be rendered via React.createElement:\n",
    "\n",
    "```js\n",
    "React.createElement('tagname', {attr: 'value'}, child1, child2, child3)\n",
    "```\n",
    "\n",
    ">**Notes**\n",
    "> * Attribute names MUST be camelCase\n",
    "> * Value is standard html attribute value syntax, except function calls which must NOT be a string\n",
    "> * Children MUST be static, alternative rendering can be in the form of a list of children elements or a string/ JS template string to render variables\n",
    "\n",
    "## Function Outlining\n"
   ]
  },
  {
   "cell_type": "code",
   "execution_count": 4,
   "metadata": {},
   "outputs": [],
   "source": [
    "# Method Definition\n",
    "\n",
    "# Default the tagname to 'div' if omitted\n",
    "# Default children to None, optional tuple of FT components\n",
    "# Standard FT **kwargs\n",
    "# Optional state dict, consisting of name, value pairs\n",
    "\n",
    "from fastcore.meta import delegates\n",
    "import re\n",
    "\n",
    "@delegates(ft_hx, keep=True)\n",
    "def ft_react(tag:str='div', *c, state:dict=None, **kwargs):\n",
    "\n",
    "    # Create unique ID for self mounting\n",
    "    id = kwargs.pop(\"id\", unqid())\n",
    "\n",
    "    # Compose list of state strings\n",
    "    init_state = []\n",
    "\n",
    "    for s in state:\n",
    "        init_state.append(f\"const [{s}, set{s.title()}] = React.useState({state.get(s, None)});\")\n",
    "\n",
    "    # Format children - if string, keep as is for innerHTML\n",
    "    # If not a string, assume its an FT instance\n",
    "\n",
    "    #TODO: format & test FT children rendering\n",
    "    # if c:\n",
    "    #     for child in list(c):\n",
    "    #         child = repr(child)\n",
    "\n",
    "    fmt_children = \", \".join((repr(s) if \"`\" not in s else s for s in list(c))) \n",
    "    \n",
    "    # Format kwargs\n",
    "    new_kwargs = {}\n",
    "    if kwargs:\n",
    "        if 'cls' in kwargs: \n",
    "            new_kwargs['className'] = repr(kwargs.pop('cls'))\n",
    "\n",
    "        for k,v in kwargs.items():\n",
    "            k = k.replace('_', '-')\n",
    "            # If Kwarg starts with `on`, assume its a function & format to React/JS syntax\n",
    "            if k.startswith('on'):\n",
    "                key_templ = 'on' + k[2:3].upper() + k[3:]\n",
    "                func_templ = \"() => {%s}\"\n",
    "\n",
    "                if isinstance(v, list):\n",
    "                    inner_templ = \"\\n\".join(f\"set{list(state)[idx].title()}({val});\" for idx, val in enumerate(v))\n",
    "                else:\n",
    "                    inner_templ = f\"set{re.split(r'\\W', v)[0].title()}({v});\"\n",
    "\n",
    "                new_kwargs[key_templ] = func_templ % inner_templ\n",
    "            else:\n",
    "                new_kwargs[repr(k)] = repr(v)\n",
    "\n",
    "    fmt_kwargs = \", \".join(f\"{k}\" + \": \" + f\"{v}\" for k,v in new_kwargs.items())\n",
    "\n",
    "    # Temporary timing string to get time to mount+hydrate after swap\n",
    "    # tmp_timing = \"React.useEffect(() => {console.timeEnd('custom')}, []);\"\n",
    "                \n",
    "    # Compose setup function for React component\n",
    "    func_str = f\"const {tag.title()} = () => {{{'\\n'.join(init_state)}\\\n",
    "    return React.createElement('{tag}', {{ {fmt_kwargs} }}, { fmt_children })}};\"\n",
    "\n",
    "    # Create root & render string\n",
    "    render_str = f\"const root = ReactDOM.createRoot(document.getElementById('{id}'));\\\n",
    "    root.render(React.createElement({tag.title()}, null, null));\"\n",
    "\n",
    "    # Define Script with all pieces in order\n",
    "    setup_script = Script(func_str+render_str)\n",
    "\n",
    "    # Return container node, as a `div` with unique id matching the root element to mount to\n",
    "    # Pass in the setup_script so that, upon render, the script executes and is removed\n",
    "    \n",
    "    # Script executes -> mounts to root div -> script is replaced with new element\n",
    "    return Div(setup_script, id=id, onload=\"htmx.process(this)\")"
   ]
  },
  {
   "cell_type": "markdown",
   "metadata": {},
   "source": [
    "> Setting the onload inline function to `htmx.process(this)` ensures the react component is properly instantiated by HTMX whenever it is inserted into the DOM"
   ]
  },
  {
   "cell_type": "code",
   "execution_count": 5,
   "metadata": {},
   "outputs": [
    {
     "data": {
      "text/html": [
       "<a href=\"http://localhost:8001/\" target=\"_blank\">Open in new tab</a>"
      ],
      "text/plain": [
       "<IPython.core.display.HTML object>"
      ]
     },
     "metadata": {},
     "output_type": "display_data"
    },
    {
     "data": {
      "text/html": [
       "<iframe src=\"http://localhost:8001/\" style=\"width: 100%; height: auto; border: none;\" onload=\"{\n",
       "        let frame = this;\n",
       "        window.addEventListener('message', function(e) {\n",
       "            if (e.data.height) frame.style.height = (e.data.height+1) + 'px';\n",
       "        }, false);\n",
       "    }\" allow=\"accelerometer; autoplay; camera; clipboard-read; clipboard-write; display-capture; encrypted-media; fullscreen; gamepad; geolocation; gyroscope; hid; identity-credentials-get; idle-detection; magnetometer; microphone; midi; payment; picture-in-picture; publickey-credentials-get; screen-wake-lock; serial; usb; web-share; xr-spatial-tracking\"></iframe> "
      ],
      "text/plain": [
       "<IPython.core.display.HTML object>"
      ]
     },
     "execution_count": 5,
     "metadata": {},
     "output_type": "execute_result"
    }
   ],
   "source": [
    "Show(ft_react('button', \"`Count: ${count}`\", state={\"count\": 0}, onclick=\"count+5\", cls=\"secondary outline\"))"
   ]
  },
  {
   "cell_type": "markdown",
   "metadata": {},
   "source": [
    "## Swapping Experiments"
   ]
  },
  {
   "cell_type": "code",
   "execution_count": 6,
   "metadata": {},
   "outputs": [
    {
     "data": {
      "text/html": [
       "<a href=\"http://localhost:8001/\" target=\"_blank\">Open in new tab</a>"
      ],
      "text/plain": [
       "<IPython.core.display.HTML object>"
      ]
     },
     "metadata": {},
     "output_type": "display_data"
    },
    {
     "data": {
      "text/html": [
       "<iframe src=\"http://localhost:8001/\" style=\"width: 100%; height: auto; border: none;\" onload=\"{\n",
       "        let frame = this;\n",
       "        window.addEventListener('message', function(e) {\n",
       "            if (e.data.height) frame.style.height = (e.data.height+1) + 'px';\n",
       "        }, false);\n",
       "    }\" allow=\"accelerometer; autoplay; camera; clipboard-read; clipboard-write; display-capture; encrypted-media; fullscreen; gamepad; geolocation; gyroscope; hid; identity-credentials-get; idle-detection; magnetometer; microphone; midi; payment; picture-in-picture; publickey-credentials-get; screen-wake-lock; serial; usb; web-share; xr-spatial-tracking\"></iframe> "
      ],
      "text/plain": [
       "<IPython.core.display.HTML object>"
      ]
     },
     "execution_count": 6,
     "metadata": {},
     "output_type": "execute_result"
    }
   ],
   "source": [
    "\n",
    "@rt\n",
    "def custom_swap():\n",
    "    return ft_react(\"button\", \"`Count: ${count}`\", state={\"count\": 0}, onclick=\"count+5\", cls=\"secondary outline\")\n",
    "\n",
    "Show(Container(H3(\"HTMX swapping test\"), Div(Button(\"Swap me\", hx_get=\"/custom_swap\", hx_swap=\"outerHTML\"))))"
   ]
  },
  {
   "cell_type": "markdown",
   "metadata": {},
   "source": [
    ">Timing hovering between 14ms - 26ms with no flickering, works as intended"
   ]
  },
  {
   "cell_type": "markdown",
   "metadata": {},
   "source": [
    "## Testing HX Attributes within custom React method"
   ]
  },
  {
   "cell_type": "code",
   "execution_count": 7,
   "metadata": {},
   "outputs": [
    {
     "data": {
      "text/html": [
       "<a href=\"http://localhost:8001/\" target=\"_blank\">Open in new tab</a>"
      ],
      "text/plain": [
       "<IPython.core.display.HTML object>"
      ]
     },
     "metadata": {},
     "output_type": "display_data"
    },
    {
     "data": {
      "text/html": [
       "<iframe src=\"http://localhost:8001/\" style=\"width: 100%; height: auto; border: none;\" onload=\"{\n",
       "        let frame = this;\n",
       "        window.addEventListener('message', function(e) {\n",
       "            if (e.data.height) frame.style.height = (e.data.height+1) + 'px';\n",
       "        }, false);\n",
       "    }\" allow=\"accelerometer; autoplay; camera; clipboard-read; clipboard-write; display-capture; encrypted-media; fullscreen; gamepad; geolocation; gyroscope; hid; identity-credentials-get; idle-detection; magnetometer; microphone; midi; payment; picture-in-picture; publickey-credentials-get; screen-wake-lock; serial; usb; web-share; xr-spatial-tracking\"></iframe> "
      ],
      "text/plain": [
       "<IPython.core.display.HTML object>"
      ]
     },
     "execution_count": 7,
     "metadata": {},
     "output_type": "execute_result"
    }
   ],
   "source": [
    "Show(ft_react('button', \"`Value: ${count}`\", state={\"count\": 1}, onclick=\"count+count\", cls=\"outline\", hx_trigger=\"load\", hx_get=\"/test\", hx_swap=\"beforeend\", hx_target=\"body\"))"
   ]
  },
  {
   "cell_type": "markdown",
   "metadata": {},
   "source": [
    "## Multiple Values w/ Reactive Bindings"
   ]
  },
  {
   "cell_type": "code",
   "execution_count": 8,
   "metadata": {},
   "outputs": [
    {
     "data": {
      "text/html": [
       "<a href=\"http://localhost:8001/\" target=\"_blank\">Open in new tab</a>"
      ],
      "text/plain": [
       "<IPython.core.display.HTML object>"
      ]
     },
     "metadata": {},
     "output_type": "display_data"
    },
    {
     "data": {
      "text/html": [
       "<iframe src=\"http://localhost:8001/\" style=\"width: 100%; height: auto; border: none;\" onload=\"{\n",
       "        let frame = this;\n",
       "        window.addEventListener('message', function(e) {\n",
       "            if (e.data.height) frame.style.height = (e.data.height+1) + 'px';\n",
       "        }, false);\n",
       "    }\" allow=\"accelerometer; autoplay; camera; clipboard-read; clipboard-write; display-capture; encrypted-media; fullscreen; gamepad; geolocation; gyroscope; hid; identity-credentials-get; idle-detection; magnetometer; microphone; midi; payment; picture-in-picture; publickey-credentials-get; screen-wake-lock; serial; usb; web-share; xr-spatial-tracking\"></iframe> "
      ],
      "text/plain": [
       "<IPython.core.display.HTML object>"
      ]
     },
     "execution_count": 8,
     "metadata": {},
     "output_type": "execute_result"
    }
   ],
   "source": [
    "Show(ft_react('button', \"`Values: x=${x}, y=${y}, z=${x+y}`\", state={\"x\": 1, \"y\": 1, \"z\": \"x+y\"}, onclick=[\"x+1\", \"y+1\"]))"
   ]
  },
  {
   "cell_type": "markdown",
   "metadata": {},
   "source": [
    "## Exerimenting with a raw method"
   ]
  },
  {
   "cell_type": "markdown",
   "metadata": {},
   "source": [
    "Building and expanding upon the FT component will be a priority, but having a set component that takes a react script and properly renders a processed and isolated react component from any react code will be very useful too.\n",
    "\n",
    "This will allow integration of third party react libraries in an intuative, easy to implement FT method.\n",
    "\n",
    "It should have options tied to it, for example:\n",
    "\n",
    "- Allow for choosing between JSX and React.createElement functions (will need to toggle a babel cdn to properly process the JSX within the script for this)"
   ]
  },
  {
   "cell_type": "markdown",
   "metadata": {},
   "source": [
    "## Testing raw function Structure\n",
    "\n",
    "### Demo React component w/o JSX:"
   ]
  },
  {
   "cell_type": "code",
   "execution_count": 20,
   "metadata": {},
   "outputs": [],
   "source": [
    "demo_comp = \"\"\"\n",
    "        const Clock = () => {\n",
    "        const [time, setTime] = React.useState(Date.now())\n",
    "\n",
    "        React.useEffect(() => {\n",
    "        const interval = setInterval(() => {\n",
    "            setTime(Date.now());\n",
    "        }, 1000);\n",
    "\n",
    "        return () => clearInterval(interval);\n",
    "    }, [time]);\n",
    "\n",
    "        return React.createElement('span', {}, `${new Date(time)}`);\n",
    "    }\n",
    "\"\"\""
   ]
  },
  {
   "cell_type": "code",
   "execution_count": 21,
   "metadata": {},
   "outputs": [],
   "source": [
    "def ft_react_raw(code:str='', jsx:bool=False, comp_name:str='default', id:str=None):\n",
    "\n",
    "    if not id: id = unqid()\n",
    "    \n",
    "    babel_cdn = Script(src=\"https://unpkg.com/@babel/standalone/babel.min.js\")\n",
    "\n",
    "    render_scr = \"\"\"const root = ReactDOM.createRoot(document.getElementById('%s'));\"\"\" % id\n",
    "\n",
    "    if jsx:\n",
    "        render_scr += \"root.render(<%s />);\" % comp_name.title()\n",
    "    else:\n",
    "        render_scr += \"root.render(React.createElement(%s, null, null));\" % comp_name.title()\n",
    "    \n",
    "    main_scr = Script(code + render_scr, type=\"text/babel\" if jsx else 'module', data_type=\"module\" if jsx else '')\n",
    "\n",
    "    if jsx: \n",
    "        return (babel_cdn, Div(main_scr, id=id)) \n",
    "    else:\n",
    "        return Div(main_scr, id=id)"
   ]
  },
  {
   "cell_type": "code",
   "execution_count": 22,
   "metadata": {},
   "outputs": [
    {
     "data": {
      "text/html": [
       "<a href=\"http://localhost:8001/\" target=\"_blank\">Open in new tab</a>"
      ],
      "text/plain": [
       "<IPython.core.display.HTML object>"
      ]
     },
     "metadata": {},
     "output_type": "display_data"
    },
    {
     "data": {
      "text/html": [
       "<iframe src=\"http://localhost:8001/\" style=\"width: 100%; height: auto; border: none;\" onload=\"{\n",
       "        let frame = this;\n",
       "        window.addEventListener('message', function(e) {\n",
       "            if (e.data.height) frame.style.height = (e.data.height+1) + 'px';\n",
       "        }, false);\n",
       "    }\" allow=\"accelerometer; autoplay; camera; clipboard-read; clipboard-write; display-capture; encrypted-media; fullscreen; gamepad; geolocation; gyroscope; hid; identity-credentials-get; idle-detection; magnetometer; microphone; midi; payment; picture-in-picture; publickey-credentials-get; screen-wake-lock; serial; usb; web-share; xr-spatial-tracking\"></iframe> "
      ],
      "text/plain": [
       "<IPython.core.display.HTML object>"
      ]
     },
     "execution_count": 22,
     "metadata": {},
     "output_type": "execute_result"
    }
   ],
   "source": [
    "Show(ft_react_raw(demo_comp, comp_name=\"clock\"))"
   ]
  },
  {
   "cell_type": "markdown",
   "metadata": {},
   "source": [
    "### Demo React Component with JSX"
   ]
  },
  {
   "cell_type": "code",
   "execution_count": 17,
   "metadata": {},
   "outputs": [],
   "source": [
    "jsx_comp = \"\"\"\n",
    "        const Clock = () => {\n",
    "        const [time, setTime] = React.useState(Date.now())\n",
    "\n",
    "        React.useEffect(() => {\n",
    "        const interval = setInterval(() => {\n",
    "            setTime(Date.now());\n",
    "        }, 1000);\n",
    "\n",
    "        return () => clearInterval(interval);\n",
    "    }, [time]);\n",
    "\n",
    "        return (<span>{new Date(time).toString()}</span>)\n",
    "    }\n",
    "\"\"\""
   ]
  },
  {
   "cell_type": "code",
   "execution_count": 18,
   "metadata": {},
   "outputs": [
    {
     "data": {
      "text/html": [
       "<a href=\"http://localhost:8001/\" target=\"_blank\">Open in new tab</a>"
      ],
      "text/plain": [
       "<IPython.core.display.HTML object>"
      ]
     },
     "metadata": {},
     "output_type": "display_data"
    },
    {
     "data": {
      "text/html": [
       "<iframe src=\"http://localhost:8001/\" style=\"width: 100%; height: auto; border: none;\" onload=\"{\n",
       "        let frame = this;\n",
       "        window.addEventListener('message', function(e) {\n",
       "            if (e.data.height) frame.style.height = (e.data.height+1) + 'px';\n",
       "        }, false);\n",
       "    }\" allow=\"accelerometer; autoplay; camera; clipboard-read; clipboard-write; display-capture; encrypted-media; fullscreen; gamepad; geolocation; gyroscope; hid; identity-credentials-get; idle-detection; magnetometer; microphone; midi; payment; picture-in-picture; publickey-credentials-get; screen-wake-lock; serial; usb; web-share; xr-spatial-tracking\"></iframe> "
      ],
      "text/plain": [
       "<IPython.core.display.HTML object>"
      ]
     },
     "execution_count": 18,
     "metadata": {},
     "output_type": "execute_result"
    }
   ],
   "source": [
    "Show(ft_react_raw(jsx_comp, comp_name=\"clock\", jsx=True))"
   ]
  }
 ],
 "metadata": {
  "kernelspec": {
   "display_name": "Python 3 (ipykernel)",
   "language": "python",
   "name": "python3"
  },
  "language_info": {
   "codemirror_mode": {
    "name": "ipython",
    "version": 3
   },
   "file_extension": ".py",
   "mimetype": "text/x-python",
   "name": "python",
   "nbconvert_exporter": "python",
   "pygments_lexer": "ipython3",
   "version": "3.13.0"
  }
 },
 "nbformat": 4,
 "nbformat_minor": 4
}
